{
 "cells": [
  {
   "cell_type": "code",
   "execution_count": null,
   "metadata": {},
   "outputs": [],
   "source": [
    "import numpy\n",
    "import matplotlib\n",
    "import lxml\n",
    "import pandas\n",
    "import pyteomics\n",
    "import csv\n",
    "import math\n",
    "import multiprocessing\n",
    "from pyteomics import mass"
   ]
  },
  {
   "cell_type": "code",
   "execution_count": null,
   "metadata": {},
   "outputs": [],
   "source": [
    "pwd"
   ]
  },
  {
   "cell_type": "code",
   "execution_count": null,
   "metadata": {},
   "outputs": [],
   "source": [
    "vclh_seq = 'MNHKVHMHHHHHHADEQEEKAKVRTELIQELAQGLGGIEKKNFPTLGDEDLDHTYMTKLLTYLQEREQAENSWRKRLLKGIQDHALDLVPRGSPGLPGPRGEQGPTGPTGPAGPRGLQGLQGLQGERGEQGPTGPAGPRGLQGERGEQGPTGLAGKAGEAGAKGETGPAGPQGPRGEQGPQGLPGKDGEAGAQGRPGKRGKQGQKGEKGEPGTQGAKGDRGETGPVGPRGERGEAGPAGKDGERGPVGPAGKDGQNGQDGLPGKDGKDGQNGKDGLPGKDGKDGQNGKDGLPGKDGKDGQDGKDGLPGKDGKDGLPGKDGKDGQPGKPGKY'"
   ]
  },
  {
   "cell_type": "code",
   "execution_count": null,
   "metadata": {},
   "outputs": [],
   "source": [
    "type(vclh_seq)"
   ]
  },
  {
   "cell_type": "code",
   "execution_count": null,
   "metadata": {},
   "outputs": [],
   "source": [
    "file = '/Users/user/Documents/fragment_finder/files/VCLH_T-145-DSP-04_input.csv'"
   ]
  },
  {
   "cell_type": "code",
   "execution_count": null,
   "metadata": {},
   "outputs": [],
   "source": [
    "def mass_cal(peptide_seq):\n",
    "    return(round(mass.calculate_mass(peptide_seq, average = True), 1))"
   ]
  },
  {
   "cell_type": "code",
   "execution_count": null,
   "metadata": {},
   "outputs": [],
   "source": [
    "mass_cal(vclh_seq)"
   ]
  },
  {
   "cell_type": "code",
   "execution_count": null,
   "metadata": {},
   "outputs": [],
   "source": [
    "def import_obs_masses(file_location):\n",
    "    with open(file_location, \"r\") as csv_file:\n",
    "        obs_masses = []\n",
    "        csv_reader = csv.reader(csv_file, delimiter=',')\n",
    "        next(csv_reader)\n",
    "        for lines in csv_reader:\n",
    "            obs_masses.append(float(lines[1]))\n",
    "    return(obs_masses)"
   ]
  },
  {
   "cell_type": "code",
   "execution_count": null,
   "metadata": {},
   "outputs": [],
   "source": [
    "def mass_diff(prot_mass, obs_masses):\n",
    "    mass_diffs = [prot_mass - masses for masses in obs_masses]\n",
    "    return(int(min(mass_diffs) // 100))"
   ]
  },
  {
   "cell_type": "code",
   "execution_count": null,
   "metadata": {},
   "outputs": [],
   "source": [
    "def fragments(prot_seq, obs_masses, mass_diffs, tolerance):\n",
    "\n",
    "    found = []\n",
    "    start = 0\n",
    "    s = int(min(obs_masses)//140)\n",
    "    e = len(prot_seq)\n",
    "    for frag in prot_seq:\n",
    "        for i in range(s, e):\n",
    "            #print(round(mass.calculate_mass(prot_seq[start:i], average = True), 1))\n",
    "            for num in obs_masses:\n",
    "                if math.isclose(round(mass.calculate_mass(prot_seq[start:i], average = True), 1), num, abs_tol = tolerance):\n",
    "                    if prot_seq[start:i] not in found:\n",
    "                        found.append(prot_seq[start:i]) \n",
    "                        found.append(round(mass.calculate_mass(prot_seq[start:i], average = True), 1))\n",
    "        s += 1\n",
    "        e += 1\n",
    "        start += 1\n",
    "    print(found)"
   ]
  },
  {
   "cell_type": "code",
   "execution_count": null,
   "metadata": {},
   "outputs": [],
   "source": []
  },
  {
   "cell_type": "code",
   "execution_count": null,
   "metadata": {},
   "outputs": [],
   "source": [
    "whole_prot_mass = mass_cal(vclh_seq)\n",
    "observed_masses = import_obs_masses(file)\n",
    "mass_differences = mass_diff(whole_prot_mass, observed_masses)"
   ]
  },
  {
   "cell_type": "code",
   "execution_count": null,
   "metadata": {},
   "outputs": [],
   "source": [
    "trial = (vclh_seq, observed_masses[0], mass_differences, 0.5)"
   ]
  },
  {
   "cell_type": "code",
   "execution_count": null,
   "metadata": {},
   "outputs": [],
   "source": []
  },
  {
   "cell_type": "code",
   "execution_count": null,
   "metadata": {},
   "outputs": [],
   "source": [
    "print(mass.calculate_mass(vclh_seq[0:4], average = True))"
   ]
  },
  {
   "cell_type": "code",
   "execution_count": null,
   "metadata": {},
   "outputs": [],
   "source": [
    "mass.calculate_mass(vclh_seq[0:4])"
   ]
  },
  {
   "cell_type": "code",
   "execution_count": null,
   "metadata": {
    "scrolled": true
   },
   "outputs": [],
   "source": [
    "%%time\n",
    "fragments(vclh_seq, observed_masses[0:2], mass_differences, 0.5)"
   ]
  },
  {
   "cell_type": "code",
   "execution_count": null,
   "metadata": {},
   "outputs": [],
   "source": []
  },
  {
   "cell_type": "code",
   "execution_count": null,
   "metadata": {},
   "outputs": [],
   "source": [
    "def fragments_multi(prot_seq, obs_mass, mass_diffs, tolerance):\n",
    "\n",
    "    found = []\n",
    "    start = 0\n",
    "    s = int(obs_mass)//140\n",
    "    e = len(prot_seq)\n",
    "    for frag in prot_seq:\n",
    "        for i in range(s, e):\n",
    "            if math.isclose(round(mass.calculate_mass(prot_seq[start:i], average = True), 1), obs_mass, abs_tol = tolerance):\n",
    "                if prot_seq[start:i] not in found:\n",
    "                    found.append(prot_seq[start:i]) \n",
    "                    found.append(round(mass.calculate_mass(prot_seq[start:i], average = True), 1))\n",
    "        s += 1\n",
    "        e += 1\n",
    "        start += 1\n",
    "    print(found)"
   ]
  },
  {
   "cell_type": "code",
   "execution_count": null,
   "metadata": {},
   "outputs": [],
   "source": [
    "multi = []\n",
    "\n",
    "for mass in observed_masses:\n",
    "    multi.append((vclh_seq, mass, mass_differences, 0.5))"
   ]
  },
  {
   "cell_type": "code",
   "execution_count": null,
   "metadata": {},
   "outputs": [],
   "source": [
    "multi"
   ]
  },
  {
   "cell_type": "code",
   "execution_count": null,
   "metadata": {},
   "outputs": [],
   "source": []
  },
  {
   "cell_type": "code",
   "execution_count": null,
   "metadata": {},
   "outputs": [],
   "source": [
    "%%time\n",
    "if __name__ == '__main__':\n",
    "    with multiprocessing.Pool(processes=2) as pool:\n",
    "        results = pool.starmap(fragments_multi, multi)\n",
    "    print(results)"
   ]
  },
  {
   "cell_type": "code",
   "execution_count": null,
   "metadata": {},
   "outputs": [],
   "source": []
  },
  {
   "cell_type": "code",
   "execution_count": null,
   "metadata": {},
   "outputs": [],
   "source": []
  },
  {
   "cell_type": "code",
   "execution_count": null,
   "metadata": {},
   "outputs": [],
   "source": []
  },
  {
   "cell_type": "code",
   "execution_count": null,
   "metadata": {
    "scrolled": true
   },
   "outputs": [],
   "source": []
  },
  {
   "cell_type": "code",
   "execution_count": null,
   "metadata": {},
   "outputs": [],
   "source": []
  },
  {
   "cell_type": "code",
   "execution_count": null,
   "metadata": {},
   "outputs": [],
   "source": []
  },
  {
   "cell_type": "code",
   "execution_count": null,
   "metadata": {},
   "outputs": [],
   "source": []
  },
  {
   "cell_type": "code",
   "execution_count": null,
   "metadata": {},
   "outputs": [],
   "source": []
  },
  {
   "cell_type": "code",
   "execution_count": null,
   "metadata": {},
   "outputs": [],
   "source": []
  },
  {
   "cell_type": "code",
   "execution_count": null,
   "metadata": {},
   "outputs": [],
   "source": []
  },
  {
   "cell_type": "code",
   "execution_count": null,
   "metadata": {},
   "outputs": [],
   "source": []
  },
  {
   "cell_type": "code",
   "execution_count": null,
   "metadata": {},
   "outputs": [],
   "source": []
  },
  {
   "cell_type": "code",
   "execution_count": null,
   "metadata": {},
   "outputs": [],
   "source": []
  },
  {
   "cell_type": "code",
   "execution_count": null,
   "metadata": {},
   "outputs": [],
   "source": []
  },
  {
   "cell_type": "code",
   "execution_count": null,
   "metadata": {},
   "outputs": [],
   "source": []
  },
  {
   "cell_type": "code",
   "execution_count": null,
   "metadata": {},
   "outputs": [],
   "source": []
  },
  {
   "cell_type": "code",
   "execution_count": null,
   "metadata": {},
   "outputs": [],
   "source": [
    "def fragments_speedup(prot_seq, obs_mass, mass_diffs, tolerance):\n",
    "\n",
    "    found = []\n",
    "    start = 0\n",
    "    s = mass_diffs\n",
    "    e = len(prot_seq)\n",
    "    for frag in prot_seq:\n",
    "        for i in range(s, e):\n",
    "            if math.isclose(round(mass.calculate_mass(prot_seq[start:i], average = True), 1), obs_mass, abs_tol = tolerance):\n",
    "                if prot_seq[start:i] not in found:\n",
    "                    found.append(prot_seq[start:i]) \n",
    "                    found.append(round(mass.calculate_mass(prot_seq[start:i], average = True), 1))\n",
    "        s += 1\n",
    "        e += 1\n",
    "        start += 1\n",
    "    print(found)\n",
    "    \n",
    "pool = multiprocessing.Pool(processes=2)\n",
    "whole_prot_mass = mass_cal(vclh_seq)\n",
    "observed_masses = import_obs_masses(file)\n",
    "mass_differences = mass_diff(whole_prot_mass, observed_masses)\n",
    "\n",
    "input_list = []\n",
    "\n",
    "part_list = []\n",
    "for mass in observed_masses[0:2]:\n",
    "    part_list = (vclh_seq, mass, mass_differences, 0.5)\n",
    "    input_list.append(part_list)\n",
    "#print(input_list)\n",
    "\n",
    "%%time\n",
    "pool.starmap(fragments_speedup, input_list)\n",
    "pool.close()"
   ]
  },
  {
   "cell_type": "code",
   "execution_count": null,
   "metadata": {},
   "outputs": [],
   "source": []
  },
  {
   "cell_type": "code",
   "execution_count": null,
   "metadata": {},
   "outputs": [],
   "source": []
  },
  {
   "cell_type": "code",
   "execution_count": null,
   "metadata": {},
   "outputs": [],
   "source": []
  },
  {
   "cell_type": "code",
   "execution_count": null,
   "metadata": {},
   "outputs": [],
   "source": []
  },
  {
   "cell_type": "code",
   "execution_count": null,
   "metadata": {},
   "outputs": [],
   "source": []
  },
  {
   "cell_type": "code",
   "execution_count": null,
   "metadata": {},
   "outputs": [],
   "source": []
  },
  {
   "cell_type": "code",
   "execution_count": null,
   "metadata": {},
   "outputs": [],
   "source": []
  }
 ],
 "metadata": {
  "kernelspec": {
   "display_name": "Python 3",
   "language": "python",
   "name": "python3"
  },
  "language_info": {
   "codemirror_mode": {
    "name": "ipython",
    "version": 3
   },
   "file_extension": ".py",
   "mimetype": "text/x-python",
   "name": "python",
   "nbconvert_exporter": "python",
   "pygments_lexer": "ipython3",
   "version": "3.6.4"
  }
 },
 "nbformat": 4,
 "nbformat_minor": 2
}
