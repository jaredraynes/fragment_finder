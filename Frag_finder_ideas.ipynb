{
 "cells": [
  {
   "cell_type": "code",
   "execution_count": null,
   "metadata": {},
   "outputs": [],
   "source": [
    "import numpy\n",
    "import matplotlib\n",
    "import lxml\n",
    "import pandas\n",
    "import pyteomics\n",
    "import csv\n",
    "import math\n",
    "import multiprocessing\n",
    "from pyteomics import mass"
   ]
  },
  {
   "cell_type": "code",
   "execution_count": null,
   "metadata": {},
   "outputs": [],
   "source": [
    "pwd"
   ]
  },
  {
   "cell_type": "code",
   "execution_count": null,
   "metadata": {},
   "outputs": [],
   "source": [
    "vclh_seq = 'MNHKVHMHHHHHHADEQEEKAKVRTELIQELAQGLGGIEKKNFPTLGDEDLDHTYMTKLLTYLQEREQAENSWRKRLLKGIQDHALDLVPRGSPGLPGPRGEQGPTGPTGPAGPRGLQGLQGLQGERGEQGPTGPAGPRGLQGERGEQGPTGLAGKAGEAGAKGETGPAGPQGPRGEQGPQGLPGKDGEAGAQGRPGKRGKQGQKGEKGEPGTQGAKGDRGETGPVGPRGERGEAGPAGKDGERGPVGPAGKDGQNGQDGLPGKDGKDGQNGKDGLPGKDGKDGQNGKDGLPGKDGKDGQDGKDGLPGKDGKDGLPGKDGKDGQPGKPGKY'"
   ]
  },
  {
   "cell_type": "code",
   "execution_count": null,
   "metadata": {},
   "outputs": [],
   "source": [
    "num_seq = 'MNHKVHMHHHHHHADEQEEKAKVRTELIQELAQGLGGIEKKNFPTLGDEDLDHTYMTKLLTYL8QE7REQAENS6W5RKRLLKG4IQD3HA2L1DLVPRGSPGLPGPRGEQGPTGPTGPAGPRGLQGLQGLQGERGEQGPTGPAGPRGLQGERGEQGPTGLAGKAGEAGAKGETGPAGPQGPRGEQGPQGLPGKDGEAGAQGRPGKRGKQGQKGEKGEPGTQGAKGDRGETGPVGPRGERGEAGPAGKDGERGPVGPAGKDGQNGQDGLPGKDGKDGQNGKDGLPGKDGKDGQNGKDGLPGKDGKDGQDGKDGLPGKDGKDGLPGKDGKDGQPGKPGKY'"
   ]
  },
  {
   "cell_type": "code",
   "execution_count": null,
   "metadata": {},
   "outputs": [],
   "source": [
    "num_seq_list = [num_seq]"
   ]
  },
  {
   "cell_type": "code",
   "execution_count": null,
   "metadata": {},
   "outputs": [],
   "source": [
    "writer = pandas.ExcelWriter('try.xlsx', engine='xlsxwriter')\n",
    "workbook = writer.book\n",
    "red = workbook.add_format({'color': 'red'})"
   ]
  },
  {
   "cell_type": "code",
   "execution_count": null,
   "metadata": {},
   "outputs": [],
   "source": [
    "index = ['1', '2', '3', '4', '5', '6', '7', '8', '9', '10', '11', '12', '13', '14', '15', '16']"
   ]
  },
  {
   "cell_type": "code",
   "execution_count": null,
   "metadata": {},
   "outputs": [],
   "source": [
    "format_seq = []\n",
    "for base in num_seq:\n",
    "    if base in index:\n",
    "    #if base == 'M':\n",
    "        format_seq.extend((red, base))\n",
    "    else:\n",
    "        format_seq.append(base)\n",
    "print(format_seq)"
   ]
  },
  {
   "cell_type": "code",
   "execution_count": null,
   "metadata": {},
   "outputs": [],
   "source": [
    "play1 = '/Users/user/Documents/fragment_finder/files/VCLH_T-145-DSP-04_input.csv'"
   ]
  },
  {
   "cell_type": "code",
   "execution_count": null,
   "metadata": {},
   "outputs": [],
   "source": [
    "play1[:-3]"
   ]
  },
  {
   "cell_type": "code",
   "execution_count": null,
   "metadata": {},
   "outputs": [],
   "source": []
  },
  {
   "cell_type": "code",
   "execution_count": null,
   "metadata": {},
   "outputs": [],
   "source": [
    "amino_list[0] = amino_list[0] + '1'"
   ]
  },
  {
   "cell_type": "code",
   "execution_count": null,
   "metadata": {},
   "outputs": [],
   "source": [
    "rejoined = ''\n",
    "print(rejoined.join(amino_list))"
   ]
  },
  {
   "cell_type": "code",
   "execution_count": null,
   "metadata": {},
   "outputs": [],
   "source": [
    "type(vclh_seq)"
   ]
  },
  {
   "cell_type": "code",
   "execution_count": null,
   "metadata": {},
   "outputs": [],
   "source": [
    "file = 'C:\\\\Users\\\\ray07c\\\\Documents\\\\Parkville_data\\\\fragment_finder\\\\files\\\\VCLH_T-145-DSP-04_input.csv'"
   ]
  },
  {
   "cell_type": "code",
   "execution_count": null,
   "metadata": {},
   "outputs": [],
   "source": [
    "def mass_cal(peptide_seq):\n",
    "    return(round(mass.calculate_mass(peptide_seq, average = True), 1))"
   ]
  },
  {
   "cell_type": "code",
   "execution_count": null,
   "metadata": {},
   "outputs": [],
   "source": [
    "mass_cal(vclh_seq)"
   ]
  },
  {
   "cell_type": "code",
   "execution_count": null,
   "metadata": {},
   "outputs": [],
   "source": [
    "def import_dataframe(file_location):\n",
    "    data = pandas.read_csv(file_location)\n",
    "    data.rename(columns={'m/z':'M(obs)'}, inplace=True)\n",
    "    return(data)"
   ]
  },
  {
   "cell_type": "code",
   "execution_count": null,
   "metadata": {},
   "outputs": [],
   "source": [
    "def import_obs_masses(dataframe):\n",
    "    return(list(dataframe['M(obs)']))"
   ]
  },
  {
   "cell_type": "code",
   "execution_count": null,
   "metadata": {},
   "outputs": [],
   "source": [
    "%load_ext lprun"
   ]
  },
  {
   "cell_type": "code",
   "execution_count": null,
   "metadata": {},
   "outputs": [],
   "source": []
  },
  {
   "cell_type": "code",
   "execution_count": null,
   "metadata": {},
   "outputs": [],
   "source": [
    "def fragments2(prot_seq, obs_masses, dataframe, tolerance):\n",
    "\n",
    "    single_cut = []\n",
    "    double_cut = []\n",
    "    start = 0\n",
    "    s = int(min(obs_masses)//105)\n",
    "    e = int(max(obs_masses)//90)\n",
    "    for frag in prot_seq:\n",
    "        for i in range(s, e):\n",
    "            if i > len(prot_seq):\n",
    "                break\n",
    "            for num in obs_masses:\n",
    "                if math.isclose(round(mass.calculate_mass(prot_seq[start:i], average = True), 1), num, abs_tol = tolerance):\n",
    "                    if i == len(prot_seq):\n",
    "                        find = [prot_seq[start] + str(start + 1),\n",
    "                                str(i),\n",
    "                                num, \n",
    "                                round(mass.calculate_mass(prot_seq[start:i], average = True), 1),\n",
    "                                round(num - round(mass.calculate_mass(prot_seq[start:i], average = True), 1), 1)]\n",
    "                        single_cut.append(find)\n",
    "                    else:\n",
    "                        find = [prot_seq[start] + str(start + 1),\n",
    "                                str(i),\n",
    "                                num, \n",
    "                                round(mass.calculate_mass(prot_seq[start:i], average = True), 1),\n",
    "                                round(num - round(mass.calculate_mass(prot_seq[start:i], average = True), 1), 1)]\n",
    "                        double_cut.append(find)\n",
    "        s += 1\n",
    "        e += 1\n",
    "        start += 1\n",
    "    \n",
    "    df1 = pandas.DataFrame(single_cut, columns = ['Cutsite (Nterm)', 'Cterm', 'M(obs)', 'M(calc)', 'deltaM'])\n",
    "    df1.sort_values('M(obs)', inplace=True)\n",
    "    df2 = pandas.DataFrame(double_cut, columns = ['Cutsite (Nterm)', 'Cutsite (Cterm)', 'M(obs)', 'M(calc)', 'deltaM'])\n",
    "    df2.sort_values('M(obs)', inplace=True)\n",
    "    df_i = dataframe[['M(obs)', 'I']]\n",
    "    df1_i = pandas.merge(df1, df_i, on= 'M(obs)', how='right')\n",
    "    df1_i.dropna(how = 'any', inplace = True)\n",
    "    percent_i = [round(((num / max(df1_i['I'])) * 100), 2) for num in df1_i['I']]\n",
    "    df1_i['I'] = percent_i\n",
    "    df1_i.rename(columns={'I':'% Intensity'}, inplace=True)\n",
    "\n",
    "    print(df1_i.to_string(index=False))\n",
    "    print(df2.to_string(index=False))"
   ]
  },
  {
   "cell_type": "code",
   "execution_count": null,
   "metadata": {},
   "outputs": [],
   "source": [
    "dataframe = import_dataframe(file)\n",
    "whole_prot_mass = mass_cal(vclh_seq)\n",
    "observed_masses = import_obs_masses(dataframe)"
   ]
  },
  {
   "cell_type": "code",
   "execution_count": null,
   "metadata": {
    "scrolled": true
   },
   "outputs": [],
   "source": [
    "%%time\n",
    "fragments2(vclh_seq, observed_masses, dataframe, 0.5)"
   ]
  },
  {
   "cell_type": "code",
   "execution_count": null,
   "metadata": {},
   "outputs": [],
   "source": [
    "def fragments_multi(prot_seq, obs_mass, tolerance):\n",
    "\n",
    "    found = []\n",
    "    start = 0\n",
    "    s = int(obs_mass)//107\n",
    "    e = int(obs_mass)//96\n",
    "    for frag in prot_seq:\n",
    "        for i in range(s, e):\n",
    "            if math.isclose(round(mass.calculate_mass(prot_seq[start:i], average = True), 1), obs_mass, abs_tol = tolerance):\n",
    "                if prot_seq[start:i] not in found:\n",
    "                    found.append(prot_seq[start:i]) \n",
    "                    found.append(round(mass.calculate_mass(prot_seq[start:i], average = True), 1))\n",
    "        s += 1\n",
    "        e += 1\n",
    "        start += 1\n",
    "    if len(found) != 0:\n",
    "        print(found)"
   ]
  },
  {
   "cell_type": "code",
   "execution_count": null,
   "metadata": {},
   "outputs": [],
   "source": [
    "multi = [(vclh_seq, mass, 0.5) for mass in observed_masses]"
   ]
  },
  {
   "cell_type": "code",
   "execution_count": null,
   "metadata": {},
   "outputs": [],
   "source": [
    "list = ['A', 'B', '2C']"
   ]
  },
  {
   "cell_type": "code",
   "execution_count": null,
   "metadata": {},
   "outputs": [],
   "source": [
    "print(str(list))"
   ]
  },
  {
   "cell_type": "code",
   "execution_count": null,
   "metadata": {},
   "outputs": [],
   "source": [
    "%%time\n",
    "if __name__ == '__main__':\n",
    "    with multiprocessing.Pool(processes=2) as pool:\n",
    "        results = pool.starmap(fragments_multi, multi)\n",
    "    print(results)"
   ]
  },
  {
   "cell_type": "code",
   "execution_count": null,
   "metadata": {},
   "outputs": [],
   "source": [
    "final = [[['double', 'Y62', '300', 23621.5, 23621.3, 0.2], ['single', 'D87', '331', 23621.5, 23621.2, 0.3]],\n",
    " [['single', 'L86', '331', 23734.2, 23734.4, -0.2]],\n",
    " [['double', 'N2', '231', 23942.9, 23943.1, -0.2], ['double', 'L51', '290', 23942.9, 23942.8, 0.1], ['double', 'D52', '291', 23942.9, 23942.8, 0.1], ['single', 'H84', '331', 23942.9, 23942.6, 0.3]],\n",
    " [['double', 'H3', '236', 24299.4, 24299.5, -0.1], ['single', 'I81', '331', 24299.4, 24299.0, 0.4]],\n",
    " [['double', 'L51', '294', 24338.6, 24338.3, 0.3], ['double', 'E70', '318', 24338.6, 24339.1, -0.5]],\n",
    " [['single', 'R74', '331', 25150.9, 25151.1, -0.2]],\n",
    " [['single', 'W73', '331', 25337.1, 25337.3, -0.2]],\n",
    " [],\n",
    " [['single', 'R66', '331', 26152.1, 26152.1, 0.0]],\n",
    " [['double', 'K4', '260', 26409.1, 26408.6, 0.5], ['single', 'Q64', '331', 26409.1, 26409.3, -0.2]]]\n"
   ]
  },
  {
   "cell_type": "code",
   "execution_count": null,
   "metadata": {},
   "outputs": [],
   "source": [
    "combined1 = [index for line in final for index in line]\n",
    "#print(combined1)"
   ]
  },
  {
   "cell_type": "code",
   "execution_count": null,
   "metadata": {},
   "outputs": [],
   "source": [
    "df_final_final = pandas.DataFrame(combined1 , columns = ['# Cuts', 'Cutsite (Nterm)', 'Cterm', 'M(obs)', 'M(calc)', 'deltaM'])\n",
    "df_final_final.sort_values(['# Cuts', 'M(obs)'], ascending = [False, True], inplace=True)\n",
    "df_final_final['I'] = [100.0, 58.93, 70.04, 79.22, 16.45, 36.61, 75.65, 11.83, 100.0, 70.04, 70.04, 70.04, 79.22, 6.03, 6.03, 11.83]\n",
    "df_final_final.style.background_gradient(cmap='viridis', low = min(df_final_final['I'])/100, high = 0.5, subset = 'I')\n",
    "df_final_final['I']\n",
    "#(cmap='PuBu', low=0, high=0, axis=0, subset=None)\n",
    "#df_final_final.sort_values('M(obs)', inplace=True)\n",
    "#df_final_final"
   ]
  },
  {
   "cell_type": "code",
   "execution_count": null,
   "metadata": {},
   "outputs": [],
   "source": [
    "def fragments_speedup(prot_seq, obs_mass, mass_diffs, tolerance):\n",
    "\n",
    "    found = []\n",
    "    start = 0\n",
    "    s = mass_diffs\n",
    "    e = len(prot_seq)\n",
    "    for frag in prot_seq:\n",
    "        for i in range(s, e):\n",
    "            if math.isclose(round(mass.calculate_mass(prot_seq[start:i], average = True), 1), obs_mass, abs_tol = tolerance):\n",
    "                if prot_seq[start:i] not in found:\n",
    "                    found.append(prot_seq[start:i]) \n",
    "                    found.append(round(mass.calculate_mass(prot_seq[start:i], average = True), 1))\n",
    "        s += 1\n",
    "        e += 1\n",
    "        start += 1\n",
    "    print(found)\n",
    "    \n",
    "pool = multiprocessing.Pool(processes=2)\n",
    "whole_prot_mass = mass_cal(vclh_seq)\n",
    "observed_masses = import_obs_masses(file)\n",
    "mass_differences = mass_diff(whole_prot_mass, observed_masses)\n",
    "\n",
    "input_list = []\n",
    "\n",
    "part_list = []\n",
    "for mass in observed_masses[0:2]:\n",
    "    part_list = (vclh_seq, mass, mass_differences, 0.5)\n",
    "    input_list.append(part_list)\n",
    "#print(input_list)\n",
    "\n",
    "%%time\n",
    "pool.starmap(fragments_speedup, input_list)\n",
    "pool.close()"
   ]
  }
 ],
 "metadata": {
  "kernelspec": {
   "display_name": "Python 3",
   "language": "python",
   "name": "python3"
  },
  "language_info": {
   "codemirror_mode": {
    "name": "ipython",
    "version": 3
   },
   "file_extension": ".py",
   "mimetype": "text/x-python",
   "name": "python",
   "nbconvert_exporter": "python",
   "pygments_lexer": "ipython3",
   "version": "3.6.4"
  }
 },
 "nbformat": 4,
 "nbformat_minor": 2
}
