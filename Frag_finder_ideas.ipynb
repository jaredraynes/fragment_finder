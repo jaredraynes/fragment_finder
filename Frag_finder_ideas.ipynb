{
 "cells": [
  {
   "cell_type": "code",
   "execution_count": null,
   "metadata": {},
   "outputs": [],
   "source": [
    "import numpy\n",
    "import matplotlib\n",
    "import lxml\n",
    "import pandas\n",
    "import pyteomics\n",
    "import csv\n",
    "import math\n",
    "import multiprocessing\n",
    "from pyteomics import mass"
   ]
  },
  {
   "cell_type": "code",
   "execution_count": null,
   "metadata": {},
   "outputs": [],
   "source": [
    "pwd"
   ]
  },
  {
   "cell_type": "code",
   "execution_count": null,
   "metadata": {},
   "outputs": [],
   "source": [
    "vclh_seq = 'MNHKVHMHHHHHHADEQEEKAKVRTELIQELAQGLGGIEKKNFPTLGDEDLDHTYMTKLLTYLQEREQAENSWRKRLLKGIQDHALDLVPRGSPGLPGPRGEQGPTGPTGPAGPRGLQGLQGLQGERGEQGPTGPAGPRGLQGERGEQGPTGLAGKAGEAGAKGETGPAGPQGPRGEQGPQGLPGKDGEAGAQGRPGKRGKQGQKGEKGEPGTQGAKGDRGETGPVGPRGERGEAGPAGKDGERGPVGPAGKDGQNGQDGLPGKDGKDGQNGKDGLPGKDGKDGQNGKDGLPGKDGKDGQDGKDGLPGKDGKDGLPGKDGKDGQPGKPGKY'"
   ]
  },
  {
   "cell_type": "code",
   "execution_count": null,
   "metadata": {},
   "outputs": [],
   "source": [
    "type(vclh_seq)"
   ]
  },
  {
   "cell_type": "code",
   "execution_count": null,
   "metadata": {},
   "outputs": [],
   "source": [
    "file = 'C:\\\\Users\\\\ray07c\\\\Documents\\\\Parkville_data\\\\fragment_finder\\\\files\\\\VCLH_T-145-DSP-04_input.csv'"
   ]
  },
  {
   "cell_type": "code",
   "execution_count": null,
   "metadata": {},
   "outputs": [],
   "source": [
    "def mass_cal(peptide_seq):\n",
    "    return(round(mass.calculate_mass(peptide_seq, average = True), 1))"
   ]
  },
  {
   "cell_type": "code",
   "execution_count": null,
   "metadata": {},
   "outputs": [],
   "source": [
    "mass_cal(vclh_seq)"
   ]
  },
  {
   "cell_type": "code",
   "execution_count": null,
   "metadata": {},
   "outputs": [],
   "source": [
    "def import_dataframe(file_location):\n",
    "    data = pandas.read_csv(file_location)\n",
    "    data.rename(columns={'m/z':'M(obs)'}, inplace=True)\n",
    "    return(data)"
   ]
  },
  {
   "cell_type": "code",
   "execution_count": null,
   "metadata": {},
   "outputs": [],
   "source": [
    "def import_obs_masses(dataframe):\n",
    "    return(list(dataframe['M(obs)']))"
   ]
  },
  {
   "cell_type": "code",
   "execution_count": null,
   "metadata": {},
   "outputs": [],
   "source": [
    "def mass_diff(prot_mass, obs_masses):\n",
    "    mass_diffs = [prot_mass - masses for masses in obs_masses]\n",
    "    return(int(min(mass_diffs) // 100))"
   ]
  },
  {
   "cell_type": "code",
   "execution_count": null,
   "metadata": {},
   "outputs": [],
   "source": [
    "%load_ext lprun"
   ]
  },
  {
   "cell_type": "code",
   "execution_count": null,
   "metadata": {},
   "outputs": [],
   "source": [
    "def fragments(prot_seq, obs_masses, tolerance):\n",
    "\n",
    "    found = []\n",
    "\n",
    "    #s = int(min(obs_masses)//105)\n",
    "    #e = int(max(obs_masses)//90)\n",
    "    for frag in prot_seq:\n",
    "        for num in obs_masses:\n",
    "            s = int(num)//107\n",
    "            e = int(num)//95\n",
    "            start = 0\n",
    "            for i in range(s, e):\n",
    "                #print(round(mass.calculate_mass(prot_seq[start:i], average = True), 1))\n",
    "                #for num in obs_masses:\n",
    "                if math.isclose(round(mass.calculate_mass(prot_seq[start:i], average = True), 1), num, abs_tol = tolerance):\n",
    "                    if prot_seq[start:i] not in found:\n",
    "                        found.append(prot_seq[start:i]) \n",
    "                        found.append(round(mass.calculate_mass(prot_seq[start:i], average = True), 1))\n",
    "            s += 1\n",
    "            e += 1\n",
    "            start += 1\n",
    "    print(found)"
   ]
  },
  {
   "cell_type": "code",
   "execution_count": null,
   "metadata": {},
   "outputs": [],
   "source": [
    "def fragments2(prot_seq, obs_masses, dataframe, tolerance):\n",
    "\n",
    "    single_cut = []\n",
    "    double_cut = []\n",
    "    start = 0\n",
    "    s = int(min(obs_masses)//105)\n",
    "    e = int(max(obs_masses)//90)\n",
    "    for frag in prot_seq:\n",
    "        for i in range(s, e):\n",
    "            if i > len(prot_seq):\n",
    "                break\n",
    "            for num in obs_masses:\n",
    "                if math.isclose(round(mass.calculate_mass(prot_seq[start:i], average = True), 1), num, abs_tol = tolerance):\n",
    "                    if i == len(prot_seq):\n",
    "                        find = [prot_seq[start] + str(start + 1),\n",
    "                                str(i),\n",
    "                                num, \n",
    "                                round(mass.calculate_mass(prot_seq[start:i], average = True), 1),\n",
    "                                round(num - round(mass.calculate_mass(prot_seq[start:i], average = True), 1), 1)]\n",
    "                        single_cut.append(find)\n",
    "                    else:\n",
    "                        find = [prot_seq[start] + str(start + 1),\n",
    "                                str(i),\n",
    "                                num, \n",
    "                                round(mass.calculate_mass(prot_seq[start:i], average = True), 1),\n",
    "                                round(num - round(mass.calculate_mass(prot_seq[start:i], average = True), 1), 1)]\n",
    "                        double_cut.append(find)\n",
    "        s += 1\n",
    "        e += 1\n",
    "        start += 1\n",
    "    \n",
    "    df1 = pandas.DataFrame(single_cut, columns = ['Cutsite (Nterm)', 'Cterm', 'M(obs)', 'M(calc)', 'deltaM'])\n",
    "    df1.sort_values('M(obs)', inplace=True)\n",
    "    df2 = pandas.DataFrame(double_cut, columns = ['Cutsite (Nterm)', 'Cutsite (Cterm)', 'M(obs)', 'M(calc)', 'deltaM'])\n",
    "    df2.sort_values('M(obs)', inplace=True)\n",
    "    df_i = dataframe[['M(obs)', 'I']]\n",
    "    df1_i = pandas.merge(df1, df_i, on= 'M(obs)', how='right')\n",
    "    df1_i.dropna(how = 'any', inplace = True)\n",
    "    percent_i = [round(((num / max(df1_i['I'])) * 100), 2) for num in df1_i['I']]\n",
    "    df1_i['I'] = percent_i\n",
    "    df1_i.rename(columns={'I':'% Intensity'}, inplace=True)\n",
    "\n",
    "    print(df1_i.to_string(index=False))\n",
    "    print(df2.to_string(index=False))"
   ]
  },
  {
   "cell_type": "code",
   "execution_count": null,
   "metadata": {},
   "outputs": [],
   "source": [
    "dataframe = import_dataframe(file)\n",
    "whole_prot_mass = mass_cal(vclh_seq)\n",
    "observed_masses = import_obs_masses(dataframe)"
   ]
  },
  {
   "cell_type": "code",
   "execution_count": null,
   "metadata": {
    "scrolled": true
   },
   "outputs": [],
   "source": [
    "%%time\n",
    "fragments2(vclh_seq, observed_masses, dataframe, 0.5)"
   ]
  },
  {
   "cell_type": "code",
   "execution_count": null,
   "metadata": {},
   "outputs": [],
   "source": [
    "def fragments_multi(prot_seq, obs_mass, tolerance):\n",
    "\n",
    "    found = []\n",
    "    start = 0\n",
    "    s = int(obs_mass)//107\n",
    "    e = int(obs_mass)//96\n",
    "    for frag in prot_seq:\n",
    "        for i in range(s, e):\n",
    "            if math.isclose(round(mass.calculate_mass(prot_seq[start:i], average = True), 1), obs_mass, abs_tol = tolerance):\n",
    "                if prot_seq[start:i] not in found:\n",
    "                    found.append(prot_seq[start:i]) \n",
    "                    found.append(round(mass.calculate_mass(prot_seq[start:i], average = True), 1))\n",
    "        s += 1\n",
    "        e += 1\n",
    "        start += 1\n",
    "    if len(found) != 0:\n",
    "        print(found)"
   ]
  },
  {
   "cell_type": "code",
   "execution_count": null,
   "metadata": {},
   "outputs": [],
   "source": [
    "multi = [(vclh_seq, mass, 0.5) for mass in observed_masses]"
   ]
  },
  {
   "cell_type": "code",
   "execution_count": null,
   "metadata": {},
   "outputs": [],
   "source": [
    "multi"
   ]
  },
  {
   "cell_type": "code",
   "execution_count": null,
   "metadata": {},
   "outputs": [],
   "source": []
  },
  {
   "cell_type": "code",
   "execution_count": null,
   "metadata": {},
   "outputs": [],
   "source": [
    "%%time\n",
    "if __name__ == '__main__':\n",
    "    with multiprocessing.Pool(processes=2) as pool:\n",
    "        results = pool.starmap(fragments_multi, multi)\n",
    "    print(results)"
   ]
  },
  {
   "cell_type": "code",
   "execution_count": null,
   "metadata": {},
   "outputs": [],
   "source": []
  },
  {
   "cell_type": "code",
   "execution_count": null,
   "metadata": {},
   "outputs": [],
   "source": []
  },
  {
   "cell_type": "code",
   "execution_count": null,
   "metadata": {},
   "outputs": [],
   "source": []
  },
  {
   "cell_type": "code",
   "execution_count": null,
   "metadata": {
    "scrolled": true
   },
   "outputs": [],
   "source": []
  },
  {
   "cell_type": "code",
   "execution_count": null,
   "metadata": {},
   "outputs": [],
   "source": []
  },
  {
   "cell_type": "code",
   "execution_count": null,
   "metadata": {},
   "outputs": [],
   "source": []
  },
  {
   "cell_type": "code",
   "execution_count": null,
   "metadata": {},
   "outputs": [],
   "source": []
  },
  {
   "cell_type": "code",
   "execution_count": null,
   "metadata": {},
   "outputs": [],
   "source": []
  },
  {
   "cell_type": "code",
   "execution_count": null,
   "metadata": {},
   "outputs": [],
   "source": []
  },
  {
   "cell_type": "code",
   "execution_count": null,
   "metadata": {},
   "outputs": [],
   "source": []
  },
  {
   "cell_type": "code",
   "execution_count": null,
   "metadata": {},
   "outputs": [],
   "source": []
  },
  {
   "cell_type": "code",
   "execution_count": null,
   "metadata": {},
   "outputs": [],
   "source": []
  },
  {
   "cell_type": "code",
   "execution_count": null,
   "metadata": {},
   "outputs": [],
   "source": []
  },
  {
   "cell_type": "code",
   "execution_count": null,
   "metadata": {},
   "outputs": [],
   "source": []
  },
  {
   "cell_type": "code",
   "execution_count": null,
   "metadata": {},
   "outputs": [],
   "source": []
  },
  {
   "cell_type": "code",
   "execution_count": null,
   "metadata": {},
   "outputs": [],
   "source": []
  },
  {
   "cell_type": "code",
   "execution_count": null,
   "metadata": {},
   "outputs": [],
   "source": [
    "def fragments_speedup(prot_seq, obs_mass, mass_diffs, tolerance):\n",
    "\n",
    "    found = []\n",
    "    start = 0\n",
    "    s = mass_diffs\n",
    "    e = len(prot_seq)\n",
    "    for frag in prot_seq:\n",
    "        for i in range(s, e):\n",
    "            if math.isclose(round(mass.calculate_mass(prot_seq[start:i], average = True), 1), obs_mass, abs_tol = tolerance):\n",
    "                if prot_seq[start:i] not in found:\n",
    "                    found.append(prot_seq[start:i]) \n",
    "                    found.append(round(mass.calculate_mass(prot_seq[start:i], average = True), 1))\n",
    "        s += 1\n",
    "        e += 1\n",
    "        start += 1\n",
    "    print(found)\n",
    "    \n",
    "pool = multiprocessing.Pool(processes=2)\n",
    "whole_prot_mass = mass_cal(vclh_seq)\n",
    "observed_masses = import_obs_masses(file)\n",
    "mass_differences = mass_diff(whole_prot_mass, observed_masses)\n",
    "\n",
    "input_list = []\n",
    "\n",
    "part_list = []\n",
    "for mass in observed_masses[0:2]:\n",
    "    part_list = (vclh_seq, mass, mass_differences, 0.5)\n",
    "    input_list.append(part_list)\n",
    "#print(input_list)\n",
    "\n",
    "%%time\n",
    "pool.starmap(fragments_speedup, input_list)\n",
    "pool.close()"
   ]
  },
  {
   "cell_type": "code",
   "execution_count": null,
   "metadata": {},
   "outputs": [],
   "source": []
  },
  {
   "cell_type": "code",
   "execution_count": null,
   "metadata": {},
   "outputs": [],
   "source": []
  },
  {
   "cell_type": "code",
   "execution_count": null,
   "metadata": {},
   "outputs": [],
   "source": []
  },
  {
   "cell_type": "code",
   "execution_count": null,
   "metadata": {},
   "outputs": [],
   "source": []
  },
  {
   "cell_type": "code",
   "execution_count": null,
   "metadata": {},
   "outputs": [],
   "source": []
  },
  {
   "cell_type": "code",
   "execution_count": null,
   "metadata": {},
   "outputs": [],
   "source": []
  },
  {
   "cell_type": "code",
   "execution_count": null,
   "metadata": {},
   "outputs": [],
   "source": []
  }
 ],
 "metadata": {
  "kernelspec": {
   "display_name": "Python 3",
   "language": "python",
   "name": "python3"
  },
  "language_info": {
   "codemirror_mode": {
    "name": "ipython",
    "version": 3
   },
   "file_extension": ".py",
   "mimetype": "text/x-python",
   "name": "python",
   "nbconvert_exporter": "python",
   "pygments_lexer": "ipython3",
   "version": "3.6.4"
  }
 },
 "nbformat": 4,
 "nbformat_minor": 2
}
