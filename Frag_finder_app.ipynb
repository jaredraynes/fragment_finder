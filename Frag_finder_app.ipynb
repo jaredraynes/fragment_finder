{
 "cells": [
  {
   "cell_type": "code",
   "execution_count": null,
   "metadata": {},
   "outputs": [],
   "source": [
    "import numpy\n",
    "import matplotlib\n",
    "import lxml\n",
    "import pandas\n",
    "import pyteomics\n",
    "import csv\n",
    "import math\n",
    "import multiprocessing\n",
    "import itertools as it\n",
    "import xlsxwriter\n",
    "from pyteomics import mass"
   ]
  },
  {
   "cell_type": "code",
   "execution_count": null,
   "metadata": {},
   "outputs": [],
   "source": [
    "def import_dataframe(file_location):\n",
    "\n",
    "    if 'csv' in file_location:\n",
    "        dataframe = pandas.read_csv(file_location)\n",
    "        dataframe.rename(columns={'m/z':'M(obs)'}, inplace=True)\n",
    "    else:\n",
    "        dataframe = pandas.read_excel(file_location)\n",
    "        dataframe.rename(columns={'m/z':'M(obs)'}, inplace=True)\n",
    "    return(dataframe)"
   ]
  },
  {
   "cell_type": "code",
   "execution_count": null,
   "metadata": {},
   "outputs": [],
   "source": [
    "def import_obs_masses(dataframe):\n",
    "\n",
    "    return(list(dataframe['M(obs)']))"
   ]
  },
  {
   "cell_type": "code",
   "execution_count": null,
   "metadata": {},
   "outputs": [],
   "source": [
    "def fragments_multi(prot_seq, obs_mass, cal_type, dataframe, tolerance):\n",
    "\n",
    "    if cal_type == 'mono':\n",
    "        aa_comp = dict(mass.std_aa_mass)\n",
    "        ave_cal = False\n",
    "    else:\n",
    "        aa_comp = dict(mass.std_aa_comp)\n",
    "        ave_cal = True\n",
    "    \n",
    "    found = []\n",
    "    start = 0\n",
    "    s = int(obs_mass)//107\n",
    "    e = int(obs_mass)//95\n",
    "    for frag in prot_seq:\n",
    "        for i in range(s, e):\n",
    "            if i > len(prot_seq):\n",
    "                break\n",
    "            if math.isclose(round(mass.calculate_mass(prot_seq[start:i], average = ave_cal, aa_comp = aa_comp), 1), obs_mass, abs_tol = tolerance):\n",
    "                if i == len(prot_seq):\n",
    "                    find = ['Single',\n",
    "                            prot_seq[start],\n",
    "                            int(start + 1),\n",
    "                            prot_seq[i-1],\n",
    "                            int(i),\n",
    "                            obs_mass,\n",
    "                            round(mass.calculate_mass(prot_seq[start:i], average = ave_cal, aa_comp = aa_comp), 1),\n",
    "                            round(obs_mass - round(mass.calculate_mass(prot_seq[start:i], average = ave_cal, aa_comp = aa_comp), 1), 1)]\n",
    "                    found.append(find)\n",
    "                else:\n",
    "                    find = ['Double',\n",
    "                            prot_seq[start],\n",
    "                            int(start + 1),\n",
    "                            prot_seq[i-1],\n",
    "                            int(i),\n",
    "                            obs_mass,\n",
    "                            round(mass.calculate_mass(prot_seq[start:i], average = ave_cal, aa_comp = aa_comp), 1),\n",
    "                            round(obs_mass - round(mass.calculate_mass(prot_seq[start:i], average = ave_cal, aa_comp = aa_comp), 1), 1)]\n",
    "                    found.append(find)\n",
    "        s += 1\n",
    "        e += 1\n",
    "        start += 1\n",
    "\n",
    "    return(found)"
   ]
  },
  {
   "cell_type": "code",
   "execution_count": null,
   "metadata": {},
   "outputs": [],
   "source": [
    "# Import the widgets\n",
    "from ipywidgets import widgets, interact, interactive\n",
    "\n",
    "# Import the display function for explicitly displaying widgets in the notebook\n",
    "from IPython.display import display\n",
    "import ipyupload\n",
    "\n",
    "#To open files\n",
    "from ipyupload import FileUpload\n",
    "\n",
    "style = {'description_width': 'initial'}\n",
    "\n",
    "seq = widgets.Textarea(value='Input Amino Acid Sequence Here',\n",
    "                        style = style,\n",
    "                      layout = widgets.Layout(width='60%'))\n",
    "\n",
    "file_loc =  widgets.Text(value='Copy and Paste your File Directory Here for you input .xls or .csv observed masses file',\n",
    "                        layout = widgets.Layout(width='60%', height='25px', justify_content = 'flex-start'),\n",
    "                        style = style)\n",
    "\n",
    "mass_cal = widgets.ToggleButtons(options = ['Monoisotopic', 'Average'],\n",
    "                                 #layout = widgets.Layout(width='99%', height='25px', justify_content = 'flex-start'),\n",
    "                                 description = 'Mass Calculation Type:',\n",
    "                                 layout = widgets.Layout(width='60%', height='25px', justify_content = 'flex-start'),\n",
    "                                 style = style,\n",
    "                                 button_style='info')\n",
    "mass_tol = widgets.FloatSlider(value = 0.5, \n",
    "                               min=0, \n",
    "                               max=2,\n",
    "                               step=0.1, \n",
    "                               style=style,\n",
    "                               layout = widgets.Layout(width='60%', height='25px', justify_content = 'flex-start'),\n",
    "                               description='Mass Tolerance (kDa)')\n",
    "\n",
    "cores = widgets.Dropdown(options=[2, 4, 8, 12, 24],\n",
    "                          value=2,\n",
    "                          description = 'Number of Computer Cores:', \n",
    "                          style=style, \n",
    "                          layout = widgets.Layout(width='60%', height='25px', justify_content = 'flex-start'),\n",
    "                          readout=True)\n",
    "\n",
    "#file_upload = FileUpload(\n",
    "    # https://developer.mozilla.org/en-US/docs/Web/HTML/Element/input#attr-accept\n",
    "    # eg. '.txt', '.pdf', 'image/*', 'image/*,.pdf'\n",
    "#    accept='', # default\n",
    "    # True to accept multiple files upload else False\n",
    "#    multiple=False, # default\n",
    "    # True to disable the button else False to enable it\n",
    "#    disabled=False, # default\n",
    "    # CSS transparently passed to button (a button element overlays the input[type=file] element for better styling)\n",
    "    # e.g. 'color: darkblue; background-color: lightsalmon; width: 180px;'\n",
    "#    style_button='color:darkblue; background-color:lightsalmon')\n",
    "\n",
    "compute = widgets.Button(value=False, \n",
    "                         description = 'Find Fragments', \n",
    "                         layout = widgets.Layout(width='60%', height='45px', justify_content = 'center'), \n",
    "                         disabled = False, \n",
    "                         style = {'font_weight': 'bold', 'font-size' : '30px'}, \n",
    "                         button_style = 'info', # 'success', 'info', 'warning', 'danger' or '' \n",
    "                         tooltip = 'Description', \n",
    "                         icon = 'check')\n",
    "    \n",
    "display(seq, file_loc, mass_cal, mass_tol, cores, compute)"
   ]
  },
  {
   "cell_type": "code",
   "execution_count": null,
   "metadata": {},
   "outputs": [],
   "source": [
    "cores.value"
   ]
  },
  {
   "cell_type": "code",
   "execution_count": null,
   "metadata": {},
   "outputs": [],
   "source": [
    "pwd"
   ]
  },
  {
   "cell_type": "code",
   "execution_count": null,
   "metadata": {},
   "outputs": [],
   "source": []
  }
 ],
 "metadata": {
  "kernelspec": {
   "display_name": "Python 3",
   "language": "python",
   "name": "python3"
  },
  "language_info": {
   "codemirror_mode": {
    "name": "ipython",
    "version": 3
   },
   "file_extension": ".py",
   "mimetype": "text/x-python",
   "name": "python",
   "nbconvert_exporter": "python",
   "pygments_lexer": "ipython3",
   "version": "3.7.3"
  }
 },
 "nbformat": 4,
 "nbformat_minor": 2
}
